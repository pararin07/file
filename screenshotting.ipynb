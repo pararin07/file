{
 "cells": [
  {
   "cell_type": "code",
   "execution_count": 5,
   "metadata": {},
   "outputs": [],
   "source": [
    "#before starting this code you must download py screenshot by entering 'pip install pyscreenshot' in cmd\n",
    "import pyscreenshot \n",
    "\n",
    "  \n",
    "# To capture the screen \n",
    "image = pyscreenshot.grab() \n",
    "  \n",
    "# To display the captured screenshot \n",
    "image.show() \n",
    "# To save the screenshot \n",
    "name = input(\"name to save as:\")\n",
    "#dont forget to add .png after the actual name \n",
    "image.save(name) "
   ]
  }
 ],
 "metadata": {
  "kernelspec": {
   "display_name": "Python 3",
   "language": "python",
   "name": "python3"
  },
  "language_info": {
   "codemirror_mode": {
    "name": "ipython",
    "version": 3
   },
   "file_extension": ".py",
   "mimetype": "text/x-python",
   "name": "python",
   "nbconvert_exporter": "python",
   "pygments_lexer": "ipython3",
   "version": "3.12.0"
  }
 },
 "nbformat": 4,
 "nbformat_minor": 2
}
